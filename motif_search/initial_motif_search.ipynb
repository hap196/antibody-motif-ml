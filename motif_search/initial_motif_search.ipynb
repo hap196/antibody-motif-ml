{
 "cells": [
  {
   "cell_type": "markdown",
   "metadata": {},
   "source": [
    "# Antibody-antigen binding distribution by different features"
   ]
  },
  {
   "cell_type": "code",
   "execution_count": null,
   "metadata": {},
   "outputs": [],
   "source": [
    "!pip3 install biopython pandas torch matplotlib seaborn tqdm"
   ]
  },
  {
   "cell_type": "code",
   "execution_count": null,
   "metadata": {},
   "outputs": [],
   "source": [
    "from Bio.PDB import PDBParser\n",
    "import os, sys\n",
    "import pandas as pd\n",
    "import numpy as np\n",
    "from collections import defaultdict\n",
    "import torch\n",
    "import warnings\n",
    "import time as time\n",
    "import matplotlib.pyplot as plt\n",
    "import seaborn as sns\n",
    "sys.path.append('/n/groups/marks/projects/sequence_structure/scripts')\n",
    "parent_dir = '/n/groups/marks/projects/sequence_structure/sabdab'\n",
    "sys.path.append(parent_dir)\n",
    "from pdb_utils import *\n",
    "from structure_utils import arrange_idx\n",
    "import torch\n",
    "from tqdm import tqdm\n",
    "from tqdm.contrib.concurrent import process_map"
   ]
  },
  {
   "cell_type": "code",
   "execution_count": null,
   "metadata": {},
   "outputs": [],
   "source": [
    "# antibodies composed of different regions: framework (FR) and complementarity-determining (CDR) regions.\n",
    "# FRs and CDRs are define as sequences of numbers converted to strings\n",
    "\n",
    "# FR1 is defined as positions 1 to 26\n",
    "FR1 = [str(n) for n in list(np.arange(1,26+1))]\n",
    "CDR1 = [str(n) for n in list(np.arange(27,38+1))]\n",
    "FR2 = [str(n) for n in list(np.arange(39,55+1))]\n",
    "CDR2 = [str(n) for n in list(np.arange(56,65+1))]\n",
    "FR3 = [str(n) for n in list(np.arange(66,104+1))]\n",
    "# CDR3 has additional specific positions indicating insertions in the antibody sequence\n",
    "CDR3 = [str(n) for n in list(np.arange(105,117+1))] + [\"111A\",\"111B\",\"111C\",\"111D\",\"111E\",\"111F\",\"112A\",\"112B\",\"112C\",\"112D\",\"112E\",\"112F\",\"112G\"]\n",
    "FR4 = [str(n) for n in list(np.arange(118,129+1))]\n",
    "\n",
    "FRs = FR1 + FR2 + FR3 + FR4\n",
    "CDRs = CDR1 + CDR2 + CDR3"
   ]
  },
  {
   "cell_type": "code",
   "execution_count": null,
   "metadata": {},
   "outputs": [],
   "source": [
    "df = pd.DataFrame([[\"FR1\",FR1],\n",
    "                   [\"CDR1\",CDR1],\n",
    "                   [\"FR2\",FR2],\n",
    "                   [\"CDR2\",CDR2],\n",
    "                   [\"FR3\",FR3],\n",
    "                   [\"CDR3\",CDR3],\n",
    "                   [\"FR4\",FR4]],\n",
    "                  columns=[\"ab_loc\",\"imgt_pos\"])\n",
    "\n",
    "# dictionary for quick lookup of region type (FR or CDR) based on a given position\n",
    "df = df.set_index(\"ab_loc\")\n",
    "ab_loc_dict = dict(zip(df[\"imgt_pos\"].explode(),df[\"imgt_pos\"].explode().index))"
   ]
  },
  {
   "cell_type": "code",
   "execution_count": null,
   "metadata": {},
   "outputs": [],
   "source": [
    "# standardizing the format of unique identifiers in the dataset\n",
    "\n",
    "def fix_uq_id(s):\n",
    "    exp = s.str.split('_', expand=True)\n",
    "    exp_u = exp.iloc[:,1:].apply(lambda x: x.str.upper())\n",
    "    sfix = exp[[0]].join(exp_u)\n",
    "    sfixed = sfix.apply('_'.join, axis=1)\n",
    "    return (sfixed)"
   ]
  },
  {
   "cell_type": "code",
   "execution_count": null,
   "metadata": {},
   "outputs": [],
   "source": [
    "# import and preprocess dataset of antibody interactions, focusing on H chain type ond date 2022_12_21\n",
    "\n",
    "#import the list of interaction summary\n",
    "DATE = '2022_12_21'\n",
    "chain_type = 'H'\n",
    "\n",
    "pdb_repo = os.path.join(parent_dir, f'{DATE}/sabdab_dataset')\n",
    "int_fnm = f'{DATE}/summary_tables/{chain_type}_fil_contact_interactions.csv'\n",
    "int_df = pd.read_csv(os.path.join(parent_dir, int_fnm))\n",
    "int_df['uq_id'] = fix_uq_id(int_df['uq_id'])\n",
    "int_df = int_df.set_index('uq_id')\n"
   ]
  },
  {
   "cell_type": "markdown",
   "metadata": {},
   "source": [
    "Construct Profile"
   ]
  },
  {
   "cell_type": "code",
   "execution_count": null,
   "metadata": {},
   "outputs": [],
   "source": [
    "def _construct_profile(tup):\n",
    "    pdb_repo, pdb, chain, antchain, chain_type = tup\n",
    "    uq_id = f'{pdb}_{chain_type}({chain})_ant({antchain})'\n",
    "    #load the contacts file\n",
    "    fnm = os.path.join(pdb_repo, pdb, f'{chain_type}({chain})_ant({antchain})_contact_cnts.pt')\n",
    "    if os.path.isfile(fnm):\n",
    "        cnts_ld = torch.load(fnm)\n",
    "        #sum each count matrix for each imgt in the count file\n",
    "        cnt_num = {k:np.sum(v) for k,v in cnts_ld.items()}\n",
    "        cnt_num = pd.Series(cnt_num, dtype='float64')\n",
    "        cnt_num['uq_id'] = uq_id\n",
    "        return (cnt_num)\n",
    "    else:\n",
    "        print (f'{fnm} does not have contacts counted')\n",
    "        return (None)\n",
    "    \n",
    "#set up an iterator for easy running\n",
    "N = int_df.shape[0]\n",
    "iterable = zip([pdb_repo]*N, int_df['pdb'], int_df[f'{chain_type}chain'], int_df['antigen_chain'], [chain_type]*N)\n",
    "    \n",
    "construct_list = process_map(_construct_profile, iterable)\n",
    "construct_list = [c for c in construct_list if c is not None]\n",
    "c_df = pd.DataFrame(construct_list).fillna(0).set_index('uq_id')\n",
    "\n",
    "#order it correctly\n",
    "imgt_order, uq_imgt_df, imgt_ii_key, ii_imgt_key = arrange_idx(c_df.columns, giveorder=True)\n",
    "c_df = c_df.loc[:, imgt_order]\n",
    "\n",
    "### Get the depth of each column in the alignment\n",
    "\n",
    "align_df = pd.read_csv(os.path.join(parent_dir, f'{DATE}/summary_tables/summary_{chain_type}_sabdab_alignment.csv'))\n",
    "align_df['uq_id'] = fix_uq_id(align_df['uq_id'])\n",
    "#sub out to the structures that are in the parsed dataset\n",
    "s_align_df = align_df[align_df['uq_id'].isin(int_df.index)]\n",
    "\n",
    "#calculate the depth of the alignment at each column\n",
    "a_df = s_align_df.iloc[:, s_align_df.columns.str.match('\\d+')]\n",
    "align_depth = (a_df != '-').sum(0)\n",
    "#remove cols that we don't have counts for some reason\n",
    "align_depth_k = align_depth[pd.Series(align_depth.index).isin(uq_imgt_df.imgt).values]\n",
    "#normalize depth\n",
    "align_depth_km = align_depth_k / a_df.shape[0]\n",
    "\n",
    "#sub out the matrix for which we have numbering in the sequence alignment\n",
    "indexer = uq_imgt_df.reset_index(drop=False)\n",
    "indexer = indexer.set_index('imgt')\n",
    "keep_idx = indexer.loc[align_depth_k.index, 'index']\n",
    "\n",
    "### Remove columns with low depth\n",
    "\n",
    "d_tr = 0.01 #depth threshold - changed, AH\n",
    "#sub out and normalize the matrix\n",
    "new_idx = keep_idx[align_depth_km > d_tr]\n",
    "cfil_df = c_df.loc[:,new_idx.index]\n",
    "cbin_df = cfil_df.copy()\n",
    "cbin_df[cbin_df > 0] = 1.0"
   ]
  },
  {
   "cell_type": "code",
   "execution_count": null,
   "metadata": {},
   "outputs": [],
   "source": [
    "#compile the metadata features to look at\n",
    "\n",
    "#import all the metadata for the interactions\n",
    "sum_fnm = f'{DATE}/sabdab_summary_all_{DATE}.tsv'\n",
    "sum_df = pd.read_csv(os.path.join(parent_dir, sum_fnm), sep='\\t')\n",
    "sum_df = sum_df.fillna('')\n",
    "sum_df['uq_id'] = sum_df['pdb'] + '_' + chain_type + '(' + sum_df[f'{chain_type}chain'] + ')_ant(' + sum_df['antigen_chain'] + ')'\n",
    "sum_df = sum_df.set_index('uq_id')\n",
    "sum_df = sum_df[~sum_df.index.duplicated()]\n",
    "\n",
    "#import the antibody types\n",
    "atype_fnm = os.path.join(parent_dir, 'recourses/metadata_files/Atype_summary.tsv')\n",
    "atype_df = pd.read_csv(atype_fnm).fillna('')\n",
    "atype_df['uq_id'] = atype_df['pdb'] + '_' + chain_type + '(' + atype_df[f'{chain_type}chain'] + ')_ant(' + atype_df['antigen_chain'] + ')'\n",
    "atype_df['full_id'] = atype_df['pdb'] + '_' + atype_df['Hchain'] + '_' + atype_df['Lchain'] + '_' + atype_df['antigen_chain']\n",
    "atype_df = atype_df.set_index('uq_id')\n",
    "atype_df = atype_df[~atype_df.index.duplicated()]\n",
    "\n",
    "#compile with the interaction ordering\n",
    "meta_cols = ['antigen_type', 'heavy_species', 'light_species', 'heavy_subclass',\n",
    "             'light_subclass', 'light_ctype']\n",
    "\n",
    "met_df = sum_df.loc[cbin_df.index, meta_cols]\n",
    "met_df['antibody_type'] = atype_df.reindex(met_df.index).loc[:,'antibody_type']"
   ]
  },
  {
   "cell_type": "markdown",
   "metadata": {},
   "source": [
    "Distribution of Contact Counts"
   ]
  },
  {
   "cell_type": "code",
   "execution_count": null,
   "metadata": {},
   "outputs": [],
   "source": [
    "sns.set_theme(style='whitegrid', font_scale=1.2)\n",
    "sns.histplot(x=cbin_df.sum(axis=1),\n",
    "             binwidth=1, kde=True, color=\"b\")\n",
    "\n",
    "plt.xlabel(\"Number of Antigen-Contacting Positions\")\n",
    "plt.ylabel(f\"Number of V{chain_type} Complexes\")\n",
    "plt.tight_layout()\n",
    "plt.savefig(f\"/n/groups/marks/projects/public_epitope/outputs/figures/dist_all_contacts-{chain_type}.png\")"
   ]
  },
  {
   "cell_type": "code",
   "execution_count": null,
   "metadata": {},
   "outputs": [],
   "source": [
    "sns.set_theme(style='whitegrid', font_scale=1.2)\n",
    "sns.histplot(x=cbin_met_df[cbin_met_df[\"antibody_type\"] == \"Fv\"][\"FR_contacts\"],\n",
    "             binwidth=1, stat=\"density\", kde=True, color=\"b\", label=\"Fv\", alpha=0.5)\n",
    "sns.histplot(x=cbin_met_df[cbin_met_df[\"antibody_type\"] == \"VHH\"][\"FR_contacts\"],\n",
    "             binwidth=1, stat=\"density\", kde=True, color=\"r\", label=\"VHH\", alpha=0.5)\n",
    "sns.histplot(x=cbin_met_df[cbin_met_df[\"antibody_type\"] == \"scFv\"][\"FR_contacts\"],\n",
    "             binwidth=1, stat=\"density\", kde=True, color=\"g\", label=\"scFv\", alpha=0.5)\n",
    "plt.xlabel(\"Number of Antigen-Contacting Framework Positions\")\n",
    "plt.ylabel(f\"Density of V{chain_type} Complexes\")\n",
    "plt.legend()\n",
    "plt.tight_layout()\n",
    "plt.savefig(f\"/n/groups/marks/projects/public_epitope/outputs/figures/dist_fr_contacts-{chain_type}.png\")"
   ]
  },
  {
   "cell_type": "markdown",
   "metadata": {},
   "source": [
    "Distribution of Framework Region (FR) Contacts"
   ]
  },
  {
   "cell_type": "code",
   "execution_count": null,
   "metadata": {},
   "outputs": [],
   "source": [
    "cbin_met_df = met_df.merge(cbin_df, on=\"uq_id\")\n",
    "cbin_met_df[\"FR_contacts\"] = cbin_met_df[[pos for pos in FRs if pos in cbin_df.columns]].sum(axis=1)"
   ]
  },
  {
   "cell_type": "code",
   "execution_count": null,
   "metadata": {},
   "outputs": [],
   "source": [
    "print(cbin_met_df[cbin_met_df[\"antibody_type\"] == \"Fv\"][\"FR_contacts\"].mean(), cbin_met_df[cbin_met_df[\"antibody_type\"] == \"Fv\"][\"FR_contacts\"].median())\n",
    "# print(cbin_met_df[cbin_met_df[\"antibody_type\"] == \"VHH\"][\"FR_contacts\"].mean(), cbin_met_df[cbin_met_df[\"antibody_type\"] == \"VHH\"][\"FR_contacts\"].median())\n",
    "# print(cbin_met_df[cbin_met_df[\"antibody_type\"] == \"scFv\"][\"FR_contacts\"].mean(), cbin_met_df[cbin_met_df[\"antibody_type\"] == \"scFv\"][\"FR_contacts\"].median())"
   ]
  },
  {
   "cell_type": "code",
   "execution_count": null,
   "metadata": {},
   "outputs": [],
   "source": [
    "n = 2\n",
    "print(cbin_met_df[(cbin_met_df[\"antibody_type\"] == \"Fv\") & (cbin_met_df[\"FR_contacts\"] <= n)].shape[0] / cbin_met_df[(cbin_met_df[\"antibody_type\"] == \"Fv\")].shape[0])\n",
    "# print(cbin_met_df[(cbin_met_df[\"antibody_type\"] == \"scFv\") & (cbin_met_df[\"FR_contacts\"] <= n)].shape[0] / cbin_met_df[(cbin_met_df[\"antibody_type\"] == \"scFv\")].shape[0])"
   ]
  },
  {
   "cell_type": "markdown",
   "metadata": {},
   "source": [
    "Most Common Interacting Residues"
   ]
  },
  {
   "cell_type": "code",
   "execution_count": null,
   "metadata": {},
   "outputs": [],
   "source": [
    "cbin_df_contact_counts = cbin_df.sum().sort_values(ascending=False)\n",
    "cbin_df_contact_counts = pd.DataFrame(cbin_df_contact_counts, columns=[\"contact_counts\"])\n",
    "\n",
    "cbin_df_contact_counts[\"ab_loc\"] = \"\"\n",
    "cbin_df_contact_counts.loc[cbin_df_contact_counts.index.isin(FR1), \"ab_loc\"] = \"FR1\"\n",
    "cbin_df_contact_counts.loc[cbin_df_contact_counts.index.isin(CDR1), \"ab_loc\"] = \"CDR1\"\n",
    "cbin_df_contact_counts.loc[cbin_df_contact_counts.index.isin(FR2), \"ab_loc\"] = \"FR2\"\n",
    "cbin_df_contact_counts.loc[cbin_df_contact_counts.index.isin(CDR2), \"ab_loc\"] = \"CDR2\"\n",
    "cbin_df_contact_counts.loc[cbin_df_contact_counts.index.isin(FR3), \"ab_loc\"] = \"FR3\"\n",
    "cbin_df_contact_counts.loc[cbin_df_contact_counts.index.isin(CDR3), \"ab_loc\"] = \"CDR3\"\n",
    "cbin_df_contact_counts.loc[cbin_df_contact_counts.index.isin(FR4), \"ab_loc\"] = \"FR4\"\n",
    "\n",
    "cbin_df_contact_counts_noncdr3 = cbin_df_contact_counts[~cbin_df_contact_counts.index.isin(CDR3)]\n",
    "cbin_df_contact_counts_noncdr3_gt_avg = cbin_df_contact_counts_noncdr3[cbin_df_contact_counts_noncdr3[\"contact_counts\"] > cbin_df_contact_counts_noncdr3[\"contact_counts\"].mean()]\n",
    "\n",
    "# cbin_df_contact_counts_noncdr3_gt_avg[cbin_df_contact_counts_noncdr3_gt_avg[\"ab_loc\"].str[:3] != \"CDR\"]"
   ]
  },
  {
   "cell_type": "markdown",
   "metadata": {},
   "source": [
    "Residues at Most Common Positions"
   ]
  },
  {
   "cell_type": "code",
   "execution_count": null,
   "metadata": {},
   "outputs": [],
   "source": [
    "def get_resid(tup, imgt_pos):\n",
    "    pdb_repo, pdb, chain, antchain, chain_type = tup\n",
    "    \n",
    "    fnm = os.path.join(pdb_repo, pdb, f'{chain_type}({chain})_ant({antchain})_contact_details.csv')\n",
    "    int_details = pd.read_csv(fnm, index_col=0)\n",
    "    # print(int_details)\n",
    "\n",
    "    imgt_pos_aa = int_details[(int_details[\"PDB\"] == pdb) & (int_details[\"chain_type\"] == chain_type) &\n",
    "                                (int_details[\"antibody_chain\"] == chain) &\n",
    "                                ((int_details[\"antibody_idx\"] == float(imgt_pos)) | (int_details[\"antibody_idx\"] == str(imgt_pos)))][\"antibody_AA\"].unique()\n",
    "\n",
    "    \n",
    "    assert len(imgt_pos_aa) <= 1\n",
    "    if len(imgt_pos_aa) == 1: imgt_pos_aa = imgt_pos_aa[0]\n",
    "    else: imgt_pos_aa = None\n",
    "\n",
    "    return imgt_pos_aa"
   ]
  },
  {
   "cell_type": "code",
   "execution_count": null,
   "metadata": {},
   "outputs": [],
   "source": [
    "\"\"\"\n",
    "the imgt_pos_aas_all_df DataFrame is a table that contains information about the amino acids (abbreviated as \"aa\") \n",
    "found at specific positions (abbreviated as \"imgt_pos\") within antibody-antigen complexes. \n",
    "Each row in this DataFrame represents one specific position in an interaction, and it provides the following information:\n",
    "\n",
    "\"imgt_pos\": The position within the interaction where the amino acid is located.\n",
    "\"uq_id\": A unique identifier for the antibody-antigen interaction, specifying the dataset location, PDB file, antibody chain, antigen chain, and chain type.\n",
    "\"aa\": The amino acid present at the specified position in the interaction.\n",
    "\"\"\"\n",
    "imgt_pos_aas_all = []\n",
    "\n",
    "for imgt_pos in tqdm(cbin_df_contact_counts_noncdr3_gt_avg.index, total=len(cbin_df_contact_counts_noncdr3_gt_avg.index)):\n",
    "\n",
    "    for ind, row in int_df.iterrows():\n",
    "        tup = ('/n/groups/marks/projects/sequence_structure/sabdab/2022_12_21/sabdab_dataset', row[\"pdb\"], row[\"Hchain\"], row[\"antigen_chain\"], chain_type)\n",
    "        pdb_repo, pdb, chain, antchain, chain_type = tup\n",
    "        uq_id = f'{pdb}_{chain_type}({chain})_ant({antchain})'\n",
    "        try:\n",
    "            imgt_pos_aa = get_resid(tup, imgt_pos)\n",
    "            imgt_pos_aas_all.append([imgt_pos, uq_id, imgt_pos_aa])\n",
    "        except:\n",
    "            pass"
   ]
  },
  {
   "cell_type": "code",
   "execution_count": null,
   "metadata": {},
   "outputs": [],
   "source": [
    "imgt_pos_aas_all_df = pd.DataFrame(imgt_pos_aas_all, columns=[\"imgt_pos\",\"uq_id\",\"aa\"])\n",
    "imgt_pos_aas_all_df[~imgt_pos_aas_all_df[\"aa\"].isnull()]"
   ]
  },
  {
   "cell_type": "code",
   "execution_count": null,
   "metadata": {},
   "outputs": [],
   "source": [
    "imgt_pos_w_high_contact_count_conservation = []\n",
    "\n",
    "for imgt_pos in imgt_pos_aas_all_df[\"imgt_pos\"].drop_duplicates():\n",
    "    pos_df = imgt_pos_aas_all_df[imgt_pos_aas_all_df[\"imgt_pos\"] == imgt_pos]\n",
    "\n",
    "    imgt_pos_w_high_contact_count_conservation.append([imgt_pos, cbin_df_contact_counts_noncdr3_gt_avg.loc[imgt_pos][\"ab_loc\"],\n",
    "                                                       cbin_df_contact_counts_noncdr3_gt_avg.loc[imgt_pos][\"contact_counts\"], pos_df[\"aa\"].value_counts(normalize=True).iloc[0],\n",
    "                                                       pos_df[\"aa\"].value_counts(normalize=True).index[0]])"
   ]
  },
  {
   "cell_type": "code",
   "execution_count": null,
   "metadata": {},
   "outputs": [],
   "source": [
    "imgt_pos_w_high_contact_count_conservation_df = pd.DataFrame(imgt_pos_w_high_contact_count_conservation, columns=[\"imgt_pos\",\"ab_loc\",\"contact_counts\",\"conservation_highest_pct\",\"conservation_highest_aa\"])"
   ]
  },
  {
   "cell_type": "code",
   "execution_count": null,
   "metadata": {},
   "outputs": [],
   "source": [
    "imgt_pos_w_high_contact_count_conservation_df.sort_values(by=[\"contact_counts\"], ascending=False)"
   ]
  },
  {
   "cell_type": "markdown",
   "metadata": {},
   "source": [
    "Distribution of Non-CDR3 and CDR3 Contacts by Frequency"
   ]
  },
  {
   "cell_type": "code",
   "execution_count": null,
   "metadata": {},
   "outputs": [],
   "source": [
    "# plot individual complexes\n",
    "# first, get individual contact counts per complex and count that number for each complex\n",
    "# then, filter those counts for CDR3\n",
    "# then plot"
   ]
  },
  {
   "cell_type": "code",
   "execution_count": null,
   "metadata": {},
   "outputs": [],
   "source": [
    "all_complexes = cbin_df.to_numpy()\n",
    "\n",
    "noncdr3_counts_per_complex = []\n",
    "cdr3_counts_per_complex = []\n",
    "\n",
    "# filter out CDR3, since we're interested in non-CDR3 residues\n",
    "non_cdr3_df = cbin_df_contact_counts[cbin_df_contact_counts['ab_loc'] != 'CDR3']\n",
    "\n",
    "# get non-CDR3 positions\n",
    "arr_noncdr3_pos = non_cdr3_df.index.to_numpy()\n",
    "arr_noncdr3_pos = [int(el) for el in arr_noncdr3_pos]\n",
    "\n",
    "for row in all_complexes:\n",
    "    non_cdr3_counts = 0\n",
    "    cdr3_counts = 0\n",
    "    for i in range(len(row)):\n",
    "        # if the position is a noncdr3 position\n",
    "        if i in arr_noncdr3_pos:\n",
    "            non_cdr3_counts += row[i] \n",
    "        else:\n",
    "            cdr3_counts += row[i] \n",
    "\n",
    "    noncdr3_counts_per_complex.append(non_cdr3_counts)\n",
    "    cdr3_counts_per_complex.append(cdr3_counts)"
   ]
  },
  {
   "cell_type": "code",
   "execution_count": null,
   "metadata": {},
   "outputs": [],
   "source": [
    "# Assuming cbin_df has complex IDs as index\n",
    "all_complexes = cbin_df.to_numpy()\n",
    "complex_ids = cbin_df.index\n",
    "\n",
    "noncdr3_counts_per_complex = []\n",
    "cdr3_counts_per_complex = []\n",
    "\n",
    "# filter out CDR3, since we're interested in non-CDR3 residues\n",
    "non_cdr3_df = cbin_df_contact_counts[cbin_df_contact_counts['ab_loc'] != 'CDR3']\n",
    "\n",
    "# get non-CDR3 positions\n",
    "arr_noncdr3_pos = non_cdr3_df.index.to_numpy()\n",
    "arr_noncdr3_pos = [int(el) for el in arr_noncdr3_pos]\n",
    "\n",
    "# Use a list of tuples to store complex ID with its counts\n",
    "noncdr3_counts_with_ids = []\n",
    "cdr3_counts_with_ids = []\n",
    "\n",
    "for idx, row in enumerate(all_complexes):\n",
    "    non_cdr3_counts = 0\n",
    "    cdr3_counts = 0\n",
    "    for i in range(len(row)):\n",
    "        if i in arr_noncdr3_pos:\n",
    "            non_cdr3_counts += row[i]\n",
    "        else:\n",
    "            cdr3_counts += row[i]\n",
    "\n",
    "    # Append the complex ID and count as a tuple\n",
    "    noncdr3_counts_with_ids.append((complex_ids[idx], non_cdr3_counts))\n",
    "    cdr3_counts_with_ids.append((complex_ids[idx], cdr3_counts))\n",
    "\n",
    "# convert to DataFrames\n",
    "noncdr3_df_with_ids = pd.DataFrame(noncdr3_counts_with_ids, columns=['Complex_ID', 'NonCDR3_Count'])\n",
    "cdr3_df_with_ids = pd.DataFrame(cdr3_counts_with_ids, columns=['Complex_ID', 'CDR3_Count'])\n",
    "\n",
    "noncdr3_df_with_ids"
   ]
  },
  {
   "cell_type": "code",
   "execution_count": null,
   "metadata": {},
   "outputs": [],
   "source": [
    "# grabbing pdb ids with the highest number of counts\n",
    "\n",
    "# do this by sorting=\n",
    "noncdr3_df_sorted = noncdr3_df_with_ids.sort_values(by='NonCDR3_Count', ascending=False)\n",
    "\n",
    "cdr3_df_sorted = cdr3_df_with_ids.sort_values(by='CDR3_Count', ascending=False)\n",
    "\n",
    "# get the top 10 entries for noncdr3 counts\n",
    "top10_noncdr3 = noncdr3_df_sorted.head(10)\n",
    "\n",
    "# get the top 10 entries for cdr3 counts\n",
    "top10_cdr3 = cdr3_df_sorted.head(10)"
   ]
  },
  {
   "cell_type": "markdown",
   "metadata": {},
   "source": [
    "Distribution of Non-CDR3 and CDR3 Contacts by Position"
   ]
  },
  {
   "cell_type": "code",
   "execution_count": null,
   "metadata": {},
   "outputs": [],
   "source": [
    "# get contact counts for each position\n",
    "contacts_per_position = []\n",
    "\n",
    "for i in range(1, all_complexes.shape[1]):\n",
    "\n",
    "    col = all_complexes[:i]\n",
    "    contacts_per_position.append(sum(col[0]))"
   ]
  },
  {
   "cell_type": "code",
   "execution_count": null,
   "metadata": {},
   "outputs": [],
   "source": [
    "cbin_df.drop_duplicates()\n",
    "\n",
    "\n",
    "# for each column (postition), add the number to the array if present\n",
    "positions = [str(i) for i in range(cbin_df.shape[0]) if str(i) in cbin_df]\n",
    "noncdr3_contact_positions = []\n",
    "cdr3_contact_positions = []\n",
    "\n",
    "# iterate over columns\n",
    "for i in range(cbin_df.shape[0]):\n",
    "\n",
    "    if str(i) in cbin_df:\n",
    "        col = cbin_df[str(i)]\n",
    "\n",
    "        for el in col:\n",
    "            # if there exists a contact, add to the contact positions array\n",
    "            if el == float(1):\n",
    "\n",
    "                # check if cdr3 or not \n",
    "                if i in arr_noncdr3_pos:\n",
    "                    noncdr3_contact_positions.append(i)\n",
    "                else:\n",
    "                    cdr3_contact_positions.append(i)\n",
    "        \n",
    "\n",
    "#[cbin_df[str(i)].sum() for i in range(cbin_df.shape[0]) if str(i) in cbin_df]\n"
   ]
  },
  {
   "cell_type": "code",
   "execution_count": null,
   "metadata": {},
   "outputs": [],
   "source": [
    "# plot the distribution of contacts per non CDR3 position\n",
    "plt.figure(figsize=(10, 6))\n",
    "sns.histplot(x=cdr3_contact_positions, kde=True, color=\"b\")\n",
    "\n",
    "plt.xlabel(\"Position\")\n",
    "plt.ylabel(\"Number of Antigen Contacts\") # across all complexes\n",
    "plt.title(\"Distribution of Antigen-Contacting Non-CDR3 Residue Positions\")\n",
    "plt.tight_layout()\n",
    "plt.savefig(\"/n/groups/marks/projects/public_epitope/outputs/figures/distribution_antigen_contacting_noncdr3_by_position.png\")\n",
    "plt.show()\n",
    "\n",
    "# plot the distribution of contacts per CDR3 position\n",
    "plt.figure(figsize=(10, 6))\n",
    "sns.histplot(x=noncdr3_contact_positions, kde=True, color=\"b\")\n",
    "\n",
    "plt.xlabel(\"Position\")\n",
    "plt.ylabel(\"Number of Antigen Contacts\")\n",
    "plt.title(\"Distribution of Antigen-Contacting CDR3 Residue Positions\")\n",
    "plt.tight_layout()\n",
    "plt.savefig(\"/n/groups/marks/projects/public_epitope/outputs/figures/distribution_antigen_contacting_cdr3_by_position.png\")\n",
    "plt.show()"
   ]
  }
 ],
 "metadata": {
  "language_info": {
   "name": "python"
  }
 },
 "nbformat": 4,
 "nbformat_minor": 2
}
